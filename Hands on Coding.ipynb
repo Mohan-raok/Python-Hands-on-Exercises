{
 "cells": [
  {
   "cell_type": "code",
   "execution_count": null,
   "id": "5cdeae75",
   "metadata": {},
   "outputs": [],
   "source": [
    "#1).Amarasimha wanted to know the final position of a person, who starts from the origin 0 0 and travels per following scheme.\n",
    "#Scheme\n",
    "He first turns and travels 10 units of distance\n",
    "His second turn is upward for 20 units\n",
    "Third turn is to the left for 30 units\n",
    "Fourth turn is the downward for 40 units\n",
    "Fifth turn is to the right(again) for 50 units\n",
    "… And thus he travels, every time increasing the travel distance by 10 units.\n",
    "#Test Cases\n",
    "Case 1\n",
    "Input : 3\n",
    "Expected Output :-20 20\n",
    "Case 2\n",
    "Input: 4\n",
    "Expected Output: -20 -20\n",
    "Case 3\n",
    "Input : 5\n",
    "Expected Output : 30 -20\n",
    "Case 4\n",
    "Input : 7\n",
    "Expected Output : 90 50"
   ]
  },
  {
   "cell_type": "code",
   "execution_count": 1,
   "id": "5eebdc58",
   "metadata": {},
   "outputs": [
    {
     "name": "stdout",
     "output_type": "stream",
     "text": [
      "7\n",
      "90 50\n"
     ]
    }
   ],
   "source": [
    "n=int(input())\n",
    "x,y=0,0\n",
    "distance=10\n",
    "c='R'\n",
    "for i in range(n):\n",
    "    if c=='R':\n",
    "        x=x+distance\n",
    "        c='U'\n",
    "        distance=distance+10\n",
    "    elif c=='U':\n",
    "        y=y+distance\n",
    "        c='L'\n",
    "        distance=distance+10\n",
    "    elif c=='L':\n",
    "        x=x-distance\n",
    "        c='D'\n",
    "        distance=distance+10\n",
    "    elif c=='D':\n",
    "        y=y-distance\n",
    "        c='A'\n",
    "        distance=distance+10\n",
    "    elif c=='A':\n",
    "        x=x+distance\n",
    "        c='R'\n",
    "        distance=distance+10\n",
    "        \n",
    "        \n",
    "print(x,y)"
   ]
  },
  {
   "cell_type": "code",
   "execution_count": null,
   "id": "c3e0d463",
   "metadata": {},
   "outputs": [],
   "source": [
    "#2).Sweet Seventeen Problem Statement\n",
    "Given a maximum of four digit to the base 17 (10 – A, 11 – B, 12 – C, 13 – D … 16 – G} as input, output its decimal value.\n",
    "\n",
    "Test Cases\n",
    "Case 1\n",
    "Input – 1A\n",
    "Expected Output – 27\n",
    "Case 2\n",
    "Input – 23GF\n",
    "Expected Output – 10980"
   ]
  },
  {
   "cell_type": "code",
   "execution_count": 5,
   "id": "04369a10",
   "metadata": {},
   "outputs": [
    {
     "name": "stdout",
     "output_type": "stream",
     "text": [
      "23GF\n",
      "10980\n"
     ]
    }
   ],
   "source": [
    "n=str(input())\n",
    "print(int(n,17))"
   ]
  },
  {
   "cell_type": "code",
   "execution_count": null,
   "id": "90c8e1d3",
   "metadata": {},
   "outputs": [],
   "source": [
    "#3).Oddly Even Problem Statement\n",
    "Given a maximum of 100 digit numbers as input, find the difference between the sum of odd and even position digits\n",
    "\n",
    "Test Cases\n",
    "Case 1\n",
    "Input: 4567\n",
    "Expected Output: 2\n",
    "Explanation : Odd positions are 4 and 6 as they are pos: 1 and pos: 3, both have sum 10. Similarly, 5 and 7 are at even positions pos: 2 and pos: 4 with sum 12. Thus, difference is 12 – 10 = 2\n",
    "\n",
    "Case 2\n",
    "Input: 5476\n",
    "Expected Output: 2\n",
    "Case 3\n",
    "Input: 9834698765123\n",
    "Expected Output: 1"
   ]
  },
  {
   "cell_type": "code",
   "execution_count": 10,
   "id": "5892bb72",
   "metadata": {},
   "outputs": [
    {
     "name": "stdout",
     "output_type": "stream",
     "text": [
      "9834698765123\n",
      "1\n"
     ]
    }
   ],
   "source": [
    "n=[int(d) for d in str(input())]\n",
    "Even=0\n",
    "Odd=0\n",
    "for i in range(0,len(n)):\n",
    "    if i%2==0:\n",
    "        Even = Even+n[i]\n",
    "    else:\n",
    "        Odd = Odd+n[i]\n",
    "print(abs(Odd-Even))"
   ]
  },
  {
   "cell_type": "code",
   "execution_count": null,
   "id": "4f9623c9",
   "metadata": {},
   "outputs": [],
   "source": [
    "#4).One programming language has the following keywords that cannot be used as identifiers:\n",
    "\n",
    "break, case, continue, default, defer, else, for, func, goto, if, map, range, return, struct, type, var\n",
    "\n",
    "Write a program to find if the given word is a keyword or not\n",
    "\n",
    "Test cases\n",
    "Case 1\n",
    "Input – defer\n",
    "Expected Output – defer is a keyword\n",
    "Case 2\n",
    "Input – While\n",
    "Expected Output – while is not a keyword"
   ]
  },
  {
   "cell_type": "code",
   "execution_count": 22,
   "id": "fa424bfa",
   "metadata": {},
   "outputs": [
    {
     "name": "stdout",
     "output_type": "stream",
     "text": [
      "tdykhgc\n",
      "tdykhgcis not a keyword\n"
     ]
    }
   ],
   "source": [
    "s=str(input())\n",
    "keywords={'break','case', 'continue', 'default', 'defer', 'else', 'for', 'func', 'goto', 'if', 'map', 'range', 'return', 'struct', 'type', 'var'}\n",
    "if s in keywords:\n",
    "    print(s+'is a keyword')\n",
    "else:\n",
    "    print(s+'is not a keyword')"
   ]
  },
  {
   "cell_type": "code",
   "execution_count": null,
   "id": "824beddb",
   "metadata": {},
   "outputs": [],
   "source": [
    "#5).Question. Find the nth term of the series.\n",
    "\n",
    "1, 1, 2, 3, 4, 9, 8, 27, 16, 81, 32, 243,64, 729, 128, 2187 ….\n",
    "\n",
    "This series is a mixture of 2 series – all the odd terms in this series form a geometric series and all the even terms form yet another geometric series. Write a program to find the Nth term in the series.\n",
    "\n",
    "The value N in a positive integer that should be read from STDIN.\n",
    "The Nth term that is calculated by the program should be written to STDOUT.\n",
    "Other than value of n th term,no other character / string or message should be written to STDOUT.\n",
    "For example , if N=16, the 16th term in the series is 2187, so only value 2187 should be printed to STDOUT.\n",
    "You can assume that N will not exceed 30.\n",
    "\n",
    "Test Case 1\n",
    "\n",
    "Input- 16\n",
    "Expected Output – 2187\n",
    "\n",
    "Test Case 2\n",
    "\n",
    "Input- 13\n",
    "Expected Output – 64\n"
   ]
  },
  {
   "cell_type": "code",
   "execution_count": 26,
   "id": "6b52f5c8",
   "metadata": {},
   "outputs": [
    {
     "name": "stdout",
     "output_type": "stream",
     "text": [
      "16\n",
      "2187\n"
     ]
    }
   ],
   "source": [
    "n=int(input())\n",
    "if n%2==0:\n",
    "    print(3**((n//2)-1))\n",
    "else:\n",
    "    print(2**(n//2))"
   ]
  },
  {
   "cell_type": "code",
   "execution_count": null,
   "id": "979772f8",
   "metadata": {},
   "outputs": [],
   "source": [
    "#6).The program will recieve 3 English words inputs from STDIN\n",
    "\n",
    "These three words will be read one at a time, in three separate line\n",
    "The first word should be changed like all vowels should be replaced by *\n",
    "The second word should be changed like all consonants should be replaced by @\n",
    "The third word should be changed like all char should be converted to upper case\n",
    "Then concatenate the three words and print them\n",
    "Other than these concatenated word, no other characters/string should or message should be written to STDOUT\n",
    "\n",
    "For example if you print how are you then output should be h*wa@eYOU.\n",
    "\n",
    "You can assume that input of each word will not exceed more than 5 chars\n",
    "\n",
    "Test Cases\n",
    "Case 1\n",
    "Input\n",
    "\n",
    "how\n",
    "are\n",
    "you\n",
    "Expected Output : h*wa@eYOU\n",
    "\n",
    "Case 2\n",
    "Input\n",
    "\n",
    "how\n",
    "999\n",
    "you\n",
    "Expected Output : h*w999YOU"
   ]
  },
  {
   "cell_type": "code",
   "execution_count": 28,
   "id": "847b152b",
   "metadata": {},
   "outputs": [
    {
     "name": "stdout",
     "output_type": "stream",
     "text": [
      "how\n",
      "are\n",
      "you\n",
      "h*wa@eYOU\n"
     ]
    }
   ],
   "source": [
    "a=str(input())\n",
    "b=str(input())\n",
    "c=str(input())\n",
    "vowels=['a','e','i','o','u']\n",
    "consonants=['b','c','d','f','g','h','j','k','l','m','n','p','q','r','s','t','v','w','x','y','z']\n",
    "for i in a:\n",
    "    if i in vowels:\n",
    "        x=a.replace(i,'*')\n",
    "for i in b:\n",
    "    if i in consonants:\n",
    "        y=b.replace(i,'@')\n",
    "z=c.upper()\n",
    "print(x+y+z)"
   ]
  },
  {
   "cell_type": "code",
   "execution_count": null,
   "id": "0cc1b1d7",
   "metadata": {},
   "outputs": [],
   "source": [
    "#7).Consider the below series :\n",
    "\n",
    "0,0,2,1,4,2,6,3,8,4,10,5,12,6,14,7,16,8\n",
    "This series is a mixture of 2 series all the odd terms in this series form even numbers in ascending order\n",
    "Every even terms is derived from the previous  term using the formula (x/2)\n",
    "Write a program to find the nth term in this series.\n",
    "\n",
    "The value n in a positive integer that should be read from STDIN the nth term that is calculated by the program should be written to STDOUT.\n",
    "Other than the value of the nth term no other characters /strings or message should be written to STDOUT.\n",
    "For example\n",
    "\n",
    "if n=10,the 10 th term in the series is to be derived from the 9th term in the series. The 9th term is 8 so the 10th term is (8/2)=4. Only the value 4 should be printed to STDOUT.\n",
    "\n",
    "You can assume that the n will not exceed 20,000."
   ]
  },
  {
   "cell_type": "code",
   "execution_count": 32,
   "id": "bc032485",
   "metadata": {},
   "outputs": [
    {
     "name": "stdout",
     "output_type": "stream",
     "text": [
      "10\n",
      "4\n"
     ]
    }
   ],
   "source": [
    "n=int(input())\n",
    "if n%2==0:\n",
    "    print((n//2-1))\n",
    "else:\n",
    "    print(n//2)"
   ]
  },
  {
   "cell_type": "code",
   "execution_count": null,
   "id": "f2a5fe06",
   "metadata": {},
   "outputs": [],
   "source": []
  }
 ],
 "metadata": {
  "kernelspec": {
   "display_name": "Python 3",
   "language": "python",
   "name": "python3"
  },
  "language_info": {
   "codemirror_mode": {
    "name": "ipython",
    "version": 3
   },
   "file_extension": ".py",
   "mimetype": "text/x-python",
   "name": "python",
   "nbconvert_exporter": "python",
   "pygments_lexer": "ipython3",
   "version": "3.8.8"
  }
 },
 "nbformat": 4,
 "nbformat_minor": 5
}
