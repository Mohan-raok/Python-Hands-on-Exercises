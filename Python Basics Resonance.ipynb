{
 "cells": [
  {
   "cell_type": "code",
   "execution_count": 2,
   "id": "2e0adf30",
   "metadata": {},
   "outputs": [
    {
     "name": "stdout",
     "output_type": "stream",
     "text": [
      "\"Hello, Thank you\" Adam said.\n",
      "\"You're very welcome, Have a good day!\" Ron responded.\n"
     ]
    }
   ],
   "source": [
    "#1. Write a python program to print the following lines in the given format\n",
    "\n",
    "#\"Hello, Thank you\" Adam said.\n",
    "\n",
    "#\"You're very welcome, Have a good day!\" Ron responded.\n",
    "\n",
    "print('\"Hello, Thank you\" Adam said.')\n",
    "print('''\"You're very welcome, Have a good day!\" Ron responded.''')"
   ]
  },
  {
   "cell_type": "code",
   "execution_count": 5,
   "id": "baabe15b",
   "metadata": {},
   "outputs": [
    {
     "name": "stdout",
     "output_type": "stream",
     "text": [
      "864\n",
      " even number\n"
     ]
    }
   ],
   "source": [
    "#2. Write a Python program to accept a number and check if its odd or even. Print appropriate messages.\n",
    "n=int(input())\n",
    "if n%2==0:\n",
    "    print(' even number')\n",
    "else:\n",
    "    print(' odd number')"
   ]
  },
  {
   "cell_type": "code",
   "execution_count": 5,
   "id": "074715ed",
   "metadata": {},
   "outputs": [
    {
     "name": "stdout",
     "output_type": "stream",
     "text": [
      "10\n",
      "10 * 1 = 10\n",
      "10 * 2 = 20\n",
      "10 * 3 = 30\n",
      "10 * 4 = 40\n",
      "10 * 5 = 50\n",
      "10 * 6 = 60\n",
      "10 * 7 = 70\n",
      "10 * 8 = 80\n",
      "10 * 9 = 90\n",
      "10 * 10 = 100\n"
     ]
    }
   ],
   "source": [
    "#3. Write a Python program to print the multiplication table of a number. The number is to taken as user input.\n",
    "n=int(input())\n",
    "for i in range(1,11):\n",
    "    print(n,\"*\",i,'=',(n*i))\n"
   ]
  },
  {
   "cell_type": "code",
   "execution_count": null,
   "id": "a39a9f92",
   "metadata": {},
   "outputs": [],
   "source": [
    "#4. Write a Python program to accept two strings as input and check if they are identical copy of each other or if the second string is a substring of the first string. If they are identical, print \"Both the strings are same\". If the 2nd string is substring of the 1st string, print \" is a substring of . Please note that the value for String1 and String2 should be printed in place of the holders.\n",
    "\n",
    "\n",
    "\n",
    "6.  A school has many students studying in different standards. Each student has a roll number, name, marks in 4 subjects and standard. The school wants a system that can calculate his grade and promote him/her if his grade is greater than 'F'. The criteria for grade calculation is:\n",
    "\n",
    "i. If percentage >=80,  grade  is  'A'\n",
    "ii. if  60<=percentage<80, grade  is 'B'\n",
    "iii. if 40<=percentage<60, grade is 'C'\n",
    "iv. percentage<40, grade is 'F'\n",
    "\n",
    "7. A bookshop has many books belonging to different categories like horror, romance, non-fiction etc. Each book has a name, ID,price, category and the author name. The bookshop wants an automated system with which it can get  the price of a particular book. \n",
    "Also, the bookshop wants the system to update the price of a given category of books if needed by a given price. Implement the scenario using OOP in Python."
   ]
  },
  {
   "cell_type": "code",
   "execution_count": 7,
   "id": "23c36136",
   "metadata": {},
   "outputs": [
    {
     "name": "stdout",
     "output_type": "stream",
     "text": [
      "mohan\n",
      "mohan\n",
      "\"Both the strings are same\"\n"
     ]
    }
   ],
   "source": [
    "a=str(input())\n",
    "b=str(input())\n",
    "if a==b:\n",
    "    print('\"Both the strings are same\"')\n",
    "\n",
    "    pass"
   ]
  },
  {
   "cell_type": "code",
   "execution_count": null,
   "id": "7fe0b702",
   "metadata": {},
   "outputs": [],
   "source": [
    "#5. Create a menu driven Python program to operate on a list of numbers which is provided by the user. The different operations to be provided are :\n",
    "\n",
    "         a. Add all numbers\n",
    "\n",
    "         b. Find the highest number\n",
    "\n",
    "         c. Find the average of all the numbers\n",
    "\n",
    "         d. Find the numbered with highest frequency in the list."
   ]
  },
  {
   "cell_type": "code",
   "execution_count": 9,
   "id": "3e1b2604",
   "metadata": {},
   "outputs": [
    {
     "ename": "SyntaxError",
     "evalue": "cannot assign to function call (<ipython-input-9-c3f8487eee59>, line 1)",
     "output_type": "error",
     "traceback": [
      "\u001b[1;36m  File \u001b[1;32m\"<ipython-input-9-c3f8487eee59>\"\u001b[1;36m, line \u001b[1;32m1\u001b[0m\n\u001b[1;33m    list()=int(input())\u001b[0m\n\u001b[1;37m    ^\u001b[0m\n\u001b[1;31mSyntaxError\u001b[0m\u001b[1;31m:\u001b[0m cannot assign to function call\n"
     ]
    }
   ],
   "source": [
    "list()=int(input())\n",
    "add.list()"
   ]
  },
  {
   "cell_type": "code",
   "execution_count": null,
   "id": "734e2457",
   "metadata": {},
   "outputs": [],
   "source": []
  }
 ],
 "metadata": {
  "kernelspec": {
   "display_name": "Python 3",
   "language": "python",
   "name": "python3"
  },
  "language_info": {
   "codemirror_mode": {
    "name": "ipython",
    "version": 3
   },
   "file_extension": ".py",
   "mimetype": "text/x-python",
   "name": "python",
   "nbconvert_exporter": "python",
   "pygments_lexer": "ipython3",
   "version": "3.8.8"
  }
 },
 "nbformat": 4,
 "nbformat_minor": 5
}
